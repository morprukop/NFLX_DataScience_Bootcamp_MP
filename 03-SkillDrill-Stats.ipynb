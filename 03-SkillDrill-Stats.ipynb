{
 "cells": [
  {
   "cell_type": "code",
   "execution_count": 61,
   "id": "0ff82148",
   "metadata": {},
   "outputs": [],
   "source": [
    "# Dependencies\n",
    "import pandas as pd\n",
    "#import plotly.express as plt\n",
    "import matplotlib.pyplot as plt\n",
    "import os\n",
    "import statsmodels.api as sm"
   ]
  },
  {
   "cell_type": "code",
   "execution_count": 62,
   "id": "63c07d88",
   "metadata": {},
   "outputs": [
    {
     "data": {
      "text/html": [
       "<div>\n",
       "<style scoped>\n",
       "    .dataframe tbody tr th:only-of-type {\n",
       "        vertical-align: middle;\n",
       "    }\n",
       "\n",
       "    .dataframe tbody tr th {\n",
       "        vertical-align: top;\n",
       "    }\n",
       "\n",
       "    .dataframe thead th {\n",
       "        text-align: right;\n",
       "    }\n",
       "</style>\n",
       "<table border=\"1\" class=\"dataframe\">\n",
       "  <thead>\n",
       "    <tr style=\"text-align: right;\">\n",
       "      <th></th>\n",
       "      <th>Unnamed: 0</th>\n",
       "      <th>Date</th>\n",
       "      <th>Day</th>\n",
       "      <th>High Temp (°F)</th>\n",
       "      <th>Low Temp (°F)</th>\n",
       "      <th>Precipitation</th>\n",
       "      <th>Brooklyn Bridge</th>\n",
       "      <th>Manhattan Bridge</th>\n",
       "      <th>Williamsburg Bridge</th>\n",
       "      <th>Queensboro Bridge</th>\n",
       "      <th>Total</th>\n",
       "    </tr>\n",
       "  </thead>\n",
       "  <tbody>\n",
       "    <tr>\n",
       "      <th>0</th>\n",
       "      <td>0</td>\n",
       "      <td>2016-04-01</td>\n",
       "      <td>2016-04-01</td>\n",
       "      <td>78.1</td>\n",
       "      <td>66.0</td>\n",
       "      <td>0.01</td>\n",
       "      <td>1704.0</td>\n",
       "      <td>3126</td>\n",
       "      <td>4115.0</td>\n",
       "      <td>2552.0</td>\n",
       "      <td>11497</td>\n",
       "    </tr>\n",
       "    <tr>\n",
       "      <th>1</th>\n",
       "      <td>1</td>\n",
       "      <td>2016-04-02</td>\n",
       "      <td>2016-04-02</td>\n",
       "      <td>55.0</td>\n",
       "      <td>48.9</td>\n",
       "      <td>0.15</td>\n",
       "      <td>827.0</td>\n",
       "      <td>1646</td>\n",
       "      <td>2565.0</td>\n",
       "      <td>1884.0</td>\n",
       "      <td>6922</td>\n",
       "    </tr>\n",
       "    <tr>\n",
       "      <th>2</th>\n",
       "      <td>2</td>\n",
       "      <td>2016-04-03</td>\n",
       "      <td>2016-04-03</td>\n",
       "      <td>39.9</td>\n",
       "      <td>34.0</td>\n",
       "      <td>0.09</td>\n",
       "      <td>526.0</td>\n",
       "      <td>1232</td>\n",
       "      <td>1695.0</td>\n",
       "      <td>1306.0</td>\n",
       "      <td>4759</td>\n",
       "    </tr>\n",
       "    <tr>\n",
       "      <th>3</th>\n",
       "      <td>3</td>\n",
       "      <td>2016-04-04</td>\n",
       "      <td>2016-04-04</td>\n",
       "      <td>44.1</td>\n",
       "      <td>33.1</td>\n",
       "      <td>0.47 (S)</td>\n",
       "      <td>521.0</td>\n",
       "      <td>1067</td>\n",
       "      <td>1440.0</td>\n",
       "      <td>1307.0</td>\n",
       "      <td>4335</td>\n",
       "    </tr>\n",
       "    <tr>\n",
       "      <th>4</th>\n",
       "      <td>4</td>\n",
       "      <td>2016-04-05</td>\n",
       "      <td>2016-04-05</td>\n",
       "      <td>42.1</td>\n",
       "      <td>26.1</td>\n",
       "      <td>0</td>\n",
       "      <td>1416.0</td>\n",
       "      <td>2617</td>\n",
       "      <td>3081.0</td>\n",
       "      <td>2357.0</td>\n",
       "      <td>9471</td>\n",
       "    </tr>\n",
       "  </tbody>\n",
       "</table>\n",
       "</div>"
      ],
      "text/plain": [
       "   Unnamed: 0        Date        Day  High Temp (°F)  Low Temp (°F)  \\\n",
       "0           0  2016-04-01 2016-04-01            78.1           66.0   \n",
       "1           1  2016-04-02 2016-04-02            55.0           48.9   \n",
       "2           2  2016-04-03 2016-04-03            39.9           34.0   \n",
       "3           3  2016-04-04 2016-04-04            44.1           33.1   \n",
       "4           4  2016-04-05 2016-04-05            42.1           26.1   \n",
       "\n",
       "  Precipitation  Brooklyn Bridge  Manhattan Bridge  Williamsburg Bridge  \\\n",
       "0          0.01           1704.0              3126               4115.0   \n",
       "1          0.15            827.0              1646               2565.0   \n",
       "2          0.09            526.0              1232               1695.0   \n",
       "3      0.47 (S)            521.0              1067               1440.0   \n",
       "4             0           1416.0              2617               3081.0   \n",
       "\n",
       "   Queensboro Bridge  Total  \n",
       "0             2552.0  11497  \n",
       "1             1884.0   6922  \n",
       "2             1306.0   4759  \n",
       "3             1307.0   4335  \n",
       "4             2357.0   9471  "
      ]
     },
     "execution_count": 62,
     "metadata": {},
     "output_type": "execute_result"
    }
   ],
   "source": [
    "bikecounts_df = pd.read_csv('bikecounts.csv')\n",
    "bikecounts_df['Day'] = pd.to_datetime(bikecounts_df['Day'])\n",
    "bikecounts_df.head()"
   ]
  },
  {
   "cell_type": "markdown",
   "id": "35629072",
   "metadata": {},
   "source": [
    "# Hypothesis"
   ]
  },
  {
   "cell_type": "markdown",
   "id": "fdf46c60",
   "metadata": {},
   "source": [
    "Question: Does high precipitation decrease the amount of bikers crossing the brooklyn bridge in a day?  \n",
    "\n",
    "   Hypothesis: If precipitation *is* related to the amount of bikers crossing the Brooklyn bridge in a day,\n",
    "          then higher precipitation would result in an decrease in bikers crossing the brooklyn bridge. \n",
    "\n",
    "   Null Hypothesis: If precipitation *is not* related to the amount of bikers crossing the Brooklyn bridge in a day, \n",
    "          then higher precipitation *will not* show an decrease in bikers crossing the Brooklyn bridge in a day. \n",
    "\n",
    "   Alt. Hypothesis: If precipitation *is* related to the amount of bikers crossing the Brooklyn bridge in a day,\n",
    "          then higher precipitation *will* show an decrease in bikers crossing the Brooklyn bridge in a day. \n"
   ]
  },
  {
   "cell_type": "code",
   "execution_count": 63,
   "id": "4d5bf967",
   "metadata": {},
   "outputs": [],
   "source": [
    "brook_counts = bikecounts_df[\"Brooklyn Bridge\"]\n",
    "precip = bikecounts_df[\"Precipitation\"]\n",
    "floatPrecip = []\n",
    "\n",
    "num = \"\"\n",
    "\n",
    "for x in precip:\n",
    "    try:\n",
    "        x = float(x)\n",
    "        floatPrecip.append(x)\n",
    "    except ValueError:\n",
    "        listcheck = [char.isdigit() for char in x]\n",
    "        if True in listcheck:\n",
    "            for i in range(len(listcheck)):\n",
    "                if listcheck[i] == True:\n",
    "                    num += str(x[i])\n",
    "                if (listcheck[i-1] == True) and (listcheck[i+1] == True):\n",
    "                    num += str(x[i])\n",
    "            floatPrecip.append(float(num))\n",
    "        else:\n",
    "            x = 0.0\n",
    "            floatPrecip.append(x)\n",
    "            continue\n"
   ]
  },
  {
   "cell_type": "code",
   "execution_count": 66,
   "id": "e72c55e2",
   "metadata": {},
   "outputs": [
    {
     "name": "stdout",
     "output_type": "stream",
     "text": [
      "                                 OLS Regression Results                                \n",
      "=======================================================================================\n",
      "Dep. Variable:                      y   R-squared (uncentered):                   0.043\n",
      "Model:                            OLS   Adj. R-squared (uncentered):              0.010\n",
      "Method:                 Least Squares   F-statistic:                              1.315\n",
      "Date:                Sat, 16 Oct 2021   Prob (F-statistic):                       0.261\n",
      "Time:                        16:31:15   Log-Likelihood:                          23.097\n",
      "No. Observations:                  30   AIC:                                     -44.19\n",
      "Df Residuals:                      29   BIC:                                     -42.79\n",
      "Df Model:                           1                                                  \n",
      "Covariance Type:            nonrobust                                                  \n",
      "===================================================================================\n",
      "                      coef    std err          t      P>|t|      [0.025      0.975]\n",
      "-----------------------------------------------------------------------------------\n",
      "Brooklyn Bridge  9.653e-06   8.42e-06      1.147      0.261   -7.56e-06    2.69e-05\n",
      "==============================================================================\n",
      "Omnibus:                       33.651   Durbin-Watson:                   1.892\n",
      "Prob(Omnibus):                  0.000   Jarque-Bera (JB):               81.448\n",
      "Skew:                           2.455   Prob(JB):                     2.06e-18\n",
      "Kurtosis:                       9.407   Cond. No.                         1.00\n",
      "==============================================================================\n",
      "\n",
      "Notes:\n",
      "[1] R² is computed without centering (uncentered) since the model does not contain a constant.\n",
      "[2] Standard Errors assume that the covariance matrix of the errors is correctly specified.\n"
     ]
    }
   ],
   "source": [
    "# # Select your independent X terms, and your dependent y term. \n",
    "y = floatPrecip\n",
    "X = brook_counts\n",
    "model = sm.OLS(y, X)\n",
    "results = model.fit()\n",
    "print(results.summary())"
   ]
  },
  {
   "cell_type": "code",
   "execution_count": 65,
   "id": "95b999ed",
   "metadata": {},
   "outputs": [
    {
     "data": {
      "text/plain": [
       "Text(0.5, 0, 'Brooklyn Bridge Bike Count')"
      ]
     },
     "execution_count": 65,
     "metadata": {},
     "output_type": "execute_result"
    },
    {
     "data": {
      "image/png": "[encoded data removed]",
      "text/plain": [
       "<Figure size 432x288 with 1 Axes>"
      ]
     },
     "metadata": {
      "needs_background": "light"
     },
     "output_type": "display_data"
    }
   ],
   "source": [
    "plt.scatter(y = floatPrecip, x = brook_counts)\n",
    "# Create a title, x label, and y label for our chart\n",
    "plt.title(\"Brooklyn Bridge Bike Counts v Precipitation\")\n",
    "plt.ylabel(\"Precipitation\")\n",
    "plt.xlabel(\"Brooklyn Bridge Bike Count\")"
   ]
  },
  {
   "cell_type": "markdown",
   "id": "c7f6ab47",
   "metadata": {},
   "source": [
    "## Analysis\n",
    "\n",
    "From the regression coefficient there is a very weak positive correlation between precipitation and the number of bikers on the brooklyn bridge. Therefore we would not reject the null hypothesis telling us that high precipitation does not decrease the amount of bikers on the brooklyn bridge. \n",
    "\n",
    "From the scatter plot, the lower precipitation levels have higher bike counts. I think if there was more data we would see a negative correlation between precipitation and bike counts however there is no way of telling for sure without more data. "
   ]
  },
  {
   "cell_type": "code",
   "execution_count": null,
   "id": "fdff80eb",
   "metadata": {},
   "outputs": [],
   "source": []
  }
 ],
 "metadata": {
  "kernelspec": {
   "display_name": "Python 3",
   "language": "python",
   "name": "python3"
  },
  "language_info": {
   "codemirror_mode": {
    "name": "ipython",
    "version": 3
   },
   "file_extension": ".py",
   "mimetype": "text/x-python",
   "name": "python",
   "nbconvert_exporter": "python",
   "pygments_lexer": "ipython3",
   "version": "3.8.8"
  }
 },
 "nbformat": 4,
 "nbformat_minor": 5
}
