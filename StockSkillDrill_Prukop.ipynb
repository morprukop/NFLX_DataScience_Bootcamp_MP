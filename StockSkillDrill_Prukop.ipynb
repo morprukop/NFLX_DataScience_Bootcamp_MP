{
 "cells": [
  {
   "cell_type": "code",
   "execution_count": 5,
   "metadata": {},
   "outputs": [],
   "source": [
    "# Import the 'os' and 'csv' libraries\n",
    "import os\n",
    "import csv"
   ]
  },
  {
   "cell_type": "code",
   "execution_count": 6,
   "metadata": {},
   "outputs": [],
   "source": [
    "# Set path for importing our CSV file\n",
    "path = os.path.join('../Resources', 'yahoo_stock.csv')"
   ]
  },
  {
   "cell_type": "code",
   "execution_count": 42,
   "metadata": {},
   "outputs": [
    {
     "name": "stdout",
     "output_type": "stream",
     "text": [
      "The greatest percent change of 5.49 occured on: 3/13/2020.\n",
      "The stock high was: 2711.330078 and the stock low was: 2492.370117.\n",
      "The volume that day was: 8258670000.\n"
     ]
    }
   ],
   "source": [
    "# Open a connection to the comma-delimited csv file \n",
    "with open(path) as csvfile:\n",
    "    \n",
    "    # Read in the CSV file using csv.DictReader() class\n",
    "    \n",
    "    reader = csv.DictReader(csvfile,delimiter = \",\")\n",
    "    \n",
    "    # Create a variable to save our print row and greatest daily percent change\n",
    "\n",
    "    printrow = {}\n",
    "    max_pct = 0\n",
    "    \n",
    "    # Iterate through each row\n",
    "    for row in reader:\n",
    "        # For each row, calculate the daily percent change\n",
    "        #print(float(row[\"Close\"]),float(row[\"Open\"]))\n",
    "        dailyPercent = ((float(row[\"Close\"])- float(row[\"Open\"]))/float(row[\"Open\"])) * 100\n",
    "        roundedPercent = round(dailyPercent, 2)\n",
    "        #print(dailyPercent)\n",
    "        #print(roundedPercent)\n",
    "        #break\n",
    "        \n",
    "        # Check if the absolute daily percent change is greater than the previous max\n",
    "        if abs(roundedPercent) > max_pct:\n",
    "            # If true, store new greatest daily percent change and print row\n",
    "            printrow = row\n",
    "            max_pct = roundedPercent\n",
    "        \n",
    "        else:\n",
    "            #print(\"current max: \", max_pct)\n",
    "            continue\n",
    "        \n",
    "    # Print out the date, stock high, stock low, volume and percent change for the day with the greatest percent change\n",
    "    print(\"The greatest percent change of \", max_pct, \" occured on: \", printrow[\"Date\"]\n",
    "         ,\".\\nThe stock high was: \", printrow[\"High\"], \" and the stock low was: \",\n",
    "         printrow[\"Low\"], \".\\nThe volume that day was: \", printrow[\"Volume\"], \".\", sep =\"\")"
   ]
  },
  {
   "cell_type": "code",
   "execution_count": null,
   "metadata": {},
   "outputs": [],
   "source": []
  }
 ],
 "metadata": {
  "kernelspec": {
   "display_name": "Python 3",
   "language": "python",
   "name": "python3"
  },
  "language_info": {
   "codemirror_mode": {
    "name": "ipython",
    "version": 3
   },
   "file_extension": ".py",
   "mimetype": "text/x-python",
   "name": "python",
   "nbconvert_exporter": "python",
   "pygments_lexer": "ipython3",
   "version": "3.8.8"
  }
 },
 "nbformat": 4,
 "nbformat_minor": 4
}
